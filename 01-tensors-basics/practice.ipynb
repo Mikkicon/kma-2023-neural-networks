{
 "cells": [
  {
   "cell_type": "code",
   "execution_count": 22,
   "id": "6a4e255c",
   "metadata": {},
   "outputs": [],
   "source": [
    "import numpy as np\n",
    "import torch"
   ]
  },
  {
   "cell_type": "markdown",
   "id": "1d22b31c",
   "metadata": {},
   "source": [
    "## Tensors basics"
   ]
  },
  {
   "cell_type": "code",
   "execution_count": 2,
   "id": "aa100b95",
   "metadata": {},
   "outputs": [],
   "source": [
    "x = torch.empty(2, 5)"
   ]
  },
  {
   "cell_type": "code",
   "execution_count": 3,
   "id": "03942271",
   "metadata": {},
   "outputs": [
    {
     "data": {
      "text/plain": [
       "tensor([[0., 0., 0., 0., 0.],\n",
       "        [0., 0., 0., 0., 0.]])"
      ]
     },
     "execution_count": 3,
     "metadata": {},
     "output_type": "execute_result"
    }
   ],
   "source": [
    "x"
   ]
  },
  {
   "cell_type": "code",
   "execution_count": 4,
   "id": "916d0b12",
   "metadata": {},
   "outputs": [],
   "source": [
    "zeros = torch.zeros(2, 3)"
   ]
  },
  {
   "cell_type": "code",
   "execution_count": 5,
   "id": "ce5a4119",
   "metadata": {},
   "outputs": [],
   "source": [
    "ones = torch.ones(2, 3)"
   ]
  },
  {
   "cell_type": "code",
   "execution_count": 6,
   "id": "80821cdd",
   "metadata": {},
   "outputs": [
    {
     "data": {
      "text/plain": [
       "<torch._C.Generator at 0x10edcf0b0>"
      ]
     },
     "execution_count": 6,
     "metadata": {},
     "output_type": "execute_result"
    }
   ],
   "source": [
    "torch.manual_seed(42)"
   ]
  },
  {
   "cell_type": "code",
   "execution_count": 7,
   "id": "74c6a47b",
   "metadata": {},
   "outputs": [],
   "source": [
    "rnd = torch.rand(2, 3)"
   ]
  },
  {
   "cell_type": "code",
   "execution_count": 8,
   "id": "b1abe342",
   "metadata": {},
   "outputs": [
    {
     "data": {
      "text/plain": [
       "(tensor([[0., 0., 0.],\n",
       "         [0., 0., 0.]]),\n",
       " tensor([[1., 1., 1.],\n",
       "         [1., 1., 1.]]),\n",
       " tensor([[0.8823, 0.9150, 0.3829],\n",
       "         [0.9593, 0.3904, 0.6009]]))"
      ]
     },
     "execution_count": 8,
     "metadata": {},
     "output_type": "execute_result"
    }
   ],
   "source": [
    "zeros, ones, rnd"
   ]
  },
  {
   "cell_type": "code",
   "execution_count": 9,
   "id": "5f3a6743",
   "metadata": {},
   "outputs": [],
   "source": [
    "x = torch.empty(2, 2, 3)"
   ]
  },
  {
   "cell_type": "code",
   "execution_count": 10,
   "id": "4fc380da",
   "metadata": {},
   "outputs": [
    {
     "data": {
      "text/plain": [
       "torch.Size([2, 2, 3])"
      ]
     },
     "execution_count": 10,
     "metadata": {},
     "output_type": "execute_result"
    }
   ],
   "source": [
    "x.size()"
   ]
  },
  {
   "cell_type": "code",
   "execution_count": 11,
   "id": "f309c6c9",
   "metadata": {},
   "outputs": [
    {
     "data": {
      "text/plain": [
       "torch.Size([2, 2, 3])"
      ]
     },
     "execution_count": 11,
     "metadata": {},
     "output_type": "execute_result"
    }
   ],
   "source": [
    "x.shape"
   ]
  },
  {
   "cell_type": "code",
   "execution_count": 12,
   "id": "eb524e02",
   "metadata": {},
   "outputs": [],
   "source": [
    "empty_like_x = torch.empty_like(x)"
   ]
  },
  {
   "cell_type": "code",
   "execution_count": 13,
   "id": "1d6ec6be",
   "metadata": {},
   "outputs": [],
   "source": [
    "zeros_like_x = torch.zeros_like(x)"
   ]
  },
  {
   "cell_type": "code",
   "execution_count": 14,
   "id": "79692be7",
   "metadata": {},
   "outputs": [],
   "source": [
    "ones_like_x = torch.ones_like(x)"
   ]
  },
  {
   "cell_type": "code",
   "execution_count": 15,
   "id": "6d723e4f",
   "metadata": {},
   "outputs": [],
   "source": [
    "rand_like_x = torch.rand_like(x)"
   ]
  },
  {
   "cell_type": "code",
   "execution_count": 16,
   "id": "a32d9222",
   "metadata": {},
   "outputs": [
    {
     "data": {
      "text/plain": [
       "(tensor([[[0., 0., 0.],\n",
       "          [0., 0., 0.]],\n",
       " \n",
       "         [[0., 0., 0.],\n",
       "          [0., 0., 0.]]]),\n",
       " tensor([[[0., 0., 0.],\n",
       "          [0., 0., 0.]],\n",
       " \n",
       "         [[0., 0., 0.],\n",
       "          [0., 0., 0.]]]),\n",
       " tensor([[[1., 1., 1.],\n",
       "          [1., 1., 1.]],\n",
       " \n",
       "         [[1., 1., 1.],\n",
       "          [1., 1., 1.]]]),\n",
       " tensor([[[0.2566, 0.7936, 0.9408],\n",
       "          [0.1332, 0.9346, 0.5936]],\n",
       " \n",
       "         [[0.8694, 0.5677, 0.7411],\n",
       "          [0.4294, 0.8854, 0.5739]]]))"
      ]
     },
     "execution_count": 16,
     "metadata": {},
     "output_type": "execute_result"
    }
   ],
   "source": [
    "empty_like_x, zeros_like_x, ones_like_x, rand_like_x"
   ]
  },
  {
   "cell_type": "code",
   "execution_count": 19,
   "id": "8b242af5",
   "metadata": {},
   "outputs": [],
   "source": [
    "some_constants = torch.tensor([[3.1415926, 2.71828], [1.61803, 0.0072897]])"
   ]
  },
  {
   "cell_type": "code",
   "execution_count": 17,
   "id": "dbb2228e",
   "metadata": {},
   "outputs": [],
   "source": [
    "some_integers = torch.tensor((2, 3, 5, 7, 11, 13, 17, 19))"
   ]
  },
  {
   "cell_type": "code",
   "execution_count": 18,
   "id": "b92bce0a",
   "metadata": {},
   "outputs": [],
   "source": [
    "more_integers = torch.tensor(((2, 4, 6), [3, 6, 9]))"
   ]
  },
  {
   "cell_type": "code",
   "execution_count": 20,
   "id": "131275d5",
   "metadata": {},
   "outputs": [
    {
     "data": {
      "text/plain": [
       "(tensor([[3.1416, 2.7183],\n",
       "         [1.6180, 0.0073]]),\n",
       " tensor([ 2,  3,  5,  7, 11, 13, 17, 19]),\n",
       " tensor([[2, 4, 6],\n",
       "         [3, 6, 9]]))"
      ]
     },
     "execution_count": 20,
     "metadata": {},
     "output_type": "execute_result"
    }
   ],
   "source": [
    "some_constants, some_integers, more_integers"
   ]
  },
  {
   "cell_type": "code",
   "execution_count": 23,
   "id": "cf8606a9",
   "metadata": {},
   "outputs": [],
   "source": [
    "numpy_array = np.ones((2, 3))"
   ]
  },
  {
   "cell_type": "code",
   "execution_count": 24,
   "id": "d230e62e",
   "metadata": {},
   "outputs": [],
   "source": [
    "pytorch_tensor = torch.from_numpy(numpy_array)"
   ]
  },
  {
   "cell_type": "code",
   "execution_count": 25,
   "id": "1953abf7",
   "metadata": {},
   "outputs": [
    {
     "data": {
      "text/plain": [
       "tensor([[1., 1., 1.],\n",
       "        [1., 1., 1.]], dtype=torch.float64)"
      ]
     },
     "execution_count": 25,
     "metadata": {},
     "output_type": "execute_result"
    }
   ],
   "source": [
    "pytorch_tensor"
   ]
  },
  {
   "cell_type": "code",
   "execution_count": 26,
   "id": "74fbb0ad",
   "metadata": {},
   "outputs": [
    {
     "data": {
      "text/plain": [
       "array([[1., 1., 1.],\n",
       "       [1., 1., 1.]])"
      ]
     },
     "execution_count": 26,
     "metadata": {},
     "output_type": "execute_result"
    }
   ],
   "source": [
    "pytorch_tensor.numpy()"
   ]
  },
  {
   "cell_type": "code",
   "execution_count": 27,
   "id": "028e14b3",
   "metadata": {},
   "outputs": [
    {
     "data": {
      "text/plain": [
       "numpy.ndarray"
      ]
     },
     "execution_count": 27,
     "metadata": {},
     "output_type": "execute_result"
    }
   ],
   "source": [
    "type(pytorch_tensor.numpy())"
   ]
  },
  {
   "cell_type": "markdown",
   "id": "12a4c642",
   "metadata": {},
   "source": [
    "Tensor data types"
   ]
  },
  {
   "cell_type": "code",
   "execution_count": 28,
   "id": "ebc73d01",
   "metadata": {},
   "outputs": [],
   "source": [
    "a = torch.ones((2, 3), dtype=torch.int16)"
   ]
  },
  {
   "cell_type": "code",
   "execution_count": 29,
   "id": "590cf815",
   "metadata": {},
   "outputs": [
    {
     "data": {
      "text/plain": [
       "torch.int16"
      ]
     },
     "execution_count": 29,
     "metadata": {},
     "output_type": "execute_result"
    }
   ],
   "source": [
    "a.dtype"
   ]
  },
  {
   "cell_type": "code",
   "execution_count": 31,
   "id": "6138a1d3",
   "metadata": {},
   "outputs": [],
   "source": [
    "b = torch.rand((2, 3), dtype=torch.float64) * 20"
   ]
  },
  {
   "cell_type": "code",
   "execution_count": 32,
   "id": "d218b543",
   "metadata": {},
   "outputs": [],
   "source": [
    "c = b.to(torch.int32)"
   ]
  },
  {
   "cell_type": "code",
   "execution_count": 33,
   "id": "946cfe45",
   "metadata": {},
   "outputs": [
    {
     "data": {
      "text/plain": [
       "(tensor([[12.2487,  1.7622, 14.0236],\n",
       "         [12.4681,  8.7456,  1.4947]], dtype=torch.float64),\n",
       " tensor([[12,  1, 14],\n",
       "         [12,  8,  1]], dtype=torch.int32))"
      ]
     },
     "execution_count": 33,
     "metadata": {},
     "output_type": "execute_result"
    }
   ],
   "source": [
    "b, c"
   ]
  },
  {
   "cell_type": "code",
   "execution_count": 35,
   "id": "6fd939b2",
   "metadata": {},
   "outputs": [
    {
     "data": {
      "text/plain": [
       "False"
      ]
     },
     "execution_count": 35,
     "metadata": {},
     "output_type": "execute_result"
    }
   ],
   "source": [
    "torch.cuda.is_available()"
   ]
  },
  {
   "cell_type": "code",
   "execution_count": 38,
   "id": "6fd23ebc",
   "metadata": {},
   "outputs": [
    {
     "data": {
      "text/plain": [
       "tensor([[12.2487,  1.7622, 14.0236],\n",
       "        [12.4681,  8.7456,  1.4947]], dtype=torch.float64)"
      ]
     },
     "execution_count": 38,
     "metadata": {},
     "output_type": "execute_result"
    }
   ],
   "source": [
    "b.to(\"cpu\")"
   ]
  },
  {
   "cell_type": "markdown",
   "id": "be6b0920",
   "metadata": {},
   "source": [
    "Available data types include:\n",
    "\n",
    "* `torch.bool`\n",
    "\n",
    "torch.int8\n",
    "\n",
    "torch.uint8\n",
    "\n",
    "torch.int16\n",
    "\n",
    "torch.int32\n",
    "\n",
    "torch.int64\n",
    "\n",
    "torch.half\n",
    "\n",
    "torch.float\n",
    "\n",
    "torch.double\n",
    "\n",
    "torch.bfloat"
   ]
  },
  {
   "cell_type": "markdown",
   "id": "bedd7057",
   "metadata": {},
   "source": [
    "## Math & Logic with Tensors"
   ]
  },
  {
   "cell_type": "code",
   "execution_count": 39,
   "id": "d0e4d881",
   "metadata": {},
   "outputs": [],
   "source": [
    "ones = torch.zeros(2, 2) + 1"
   ]
  },
  {
   "cell_type": "code",
   "execution_count": 40,
   "id": "3f81663a",
   "metadata": {},
   "outputs": [],
   "source": [
    "twos = torch.ones(2, 2) * 2"
   ]
  },
  {
   "cell_type": "code",
   "execution_count": 41,
   "id": "6dfb53ac",
   "metadata": {},
   "outputs": [],
   "source": [
    "threes = (torch.ones(2, 2) * 7 - 1) / 2"
   ]
  },
  {
   "cell_type": "code",
   "execution_count": 42,
   "id": "59599e94",
   "metadata": {},
   "outputs": [],
   "source": [
    "fours = twos ** 2"
   ]
  },
  {
   "cell_type": "code",
   "execution_count": 43,
   "id": "5b027d56",
   "metadata": {},
   "outputs": [],
   "source": [
    "sqrt2s = twos ** 0.5"
   ]
  },
  {
   "cell_type": "code",
   "execution_count": 44,
   "id": "f235a81f",
   "metadata": {},
   "outputs": [],
   "source": [
    "powers2 = twos ** torch.tensor([[1, 2], [3, 4]])"
   ]
  },
  {
   "cell_type": "code",
   "execution_count": 45,
   "id": "0d2dd21f",
   "metadata": {},
   "outputs": [],
   "source": [
    "fives = ones + fours"
   ]
  },
  {
   "cell_type": "code",
   "execution_count": 46,
   "id": "3b75e632",
   "metadata": {},
   "outputs": [],
   "source": [
    "dozens = threes * fours"
   ]
  },
  {
   "cell_type": "code",
   "execution_count": 47,
   "id": "73aba964",
   "metadata": {},
   "outputs": [
    {
     "data": {
      "text/plain": [
       "(tensor([[1., 1.],\n",
       "         [1., 1.]]),\n",
       " tensor([[2., 2.],\n",
       "         [2., 2.]]),\n",
       " tensor([[3., 3.],\n",
       "         [3., 3.]]),\n",
       " tensor([[4., 4.],\n",
       "         [4., 4.]]))"
      ]
     },
     "execution_count": 47,
     "metadata": {},
     "output_type": "execute_result"
    }
   ],
   "source": [
    "ones, twos, threes, fours"
   ]
  },
  {
   "cell_type": "code",
   "execution_count": 48,
   "id": "f8da2c9a",
   "metadata": {},
   "outputs": [
    {
     "data": {
      "text/plain": [
       "(tensor([[1.4142, 1.4142],\n",
       "         [1.4142, 1.4142]]),\n",
       " tensor([[ 2.,  4.],\n",
       "         [ 8., 16.]]),\n",
       " tensor([[5., 5.],\n",
       "         [5., 5.]]),\n",
       " tensor([[12., 12.],\n",
       "         [12., 12.]]))"
      ]
     },
     "execution_count": 48,
     "metadata": {},
     "output_type": "execute_result"
    }
   ],
   "source": [
    "sqrt2s, powers2, fives, dozens"
   ]
  },
  {
   "cell_type": "code",
   "execution_count": 49,
   "id": "0362b8b6",
   "metadata": {},
   "outputs": [],
   "source": [
    "x = torch.empty(2, 3)"
   ]
  },
  {
   "cell_type": "code",
   "execution_count": 57,
   "id": "4448e345",
   "metadata": {},
   "outputs": [
    {
     "data": {
      "text/plain": [
       "tensor([[1.1250, 1.1250, 1.1250],\n",
       "        [1.1250, 1.1250, 1.1250]])"
      ]
     },
     "execution_count": 57,
     "metadata": {},
     "output_type": "execute_result"
    }
   ],
   "source": [
    "x.fill_(1.125)"
   ]
  },
  {
   "cell_type": "code",
   "execution_count": 58,
   "id": "08738ca8",
   "metadata": {},
   "outputs": [
    {
     "data": {
      "text/plain": [
       "tensor([[1.1250, 1.1250, 1.1250],\n",
       "        [1.1250, 1.1250, 1.1250]])"
      ]
     },
     "execution_count": 58,
     "metadata": {},
     "output_type": "execute_result"
    }
   ],
   "source": [
    "x"
   ]
  },
  {
   "cell_type": "code",
   "execution_count": 59,
   "id": "f048cf1c",
   "metadata": {},
   "outputs": [
    {
     "data": {
      "text/plain": [
       "tensor(1.1250)"
      ]
     },
     "execution_count": 59,
     "metadata": {},
     "output_type": "execute_result"
    }
   ],
   "source": [
    "x.mean()"
   ]
  },
  {
   "cell_type": "code",
   "execution_count": 51,
   "id": "3837e260",
   "metadata": {},
   "outputs": [
    {
     "data": {
      "text/plain": [
       "tensor(0.)"
      ]
     },
     "execution_count": 51,
     "metadata": {},
     "output_type": "execute_result"
    }
   ],
   "source": [
    "x.std()"
   ]
  },
  {
   "cell_type": "code",
   "execution_count": 60,
   "id": "3a66eea8",
   "metadata": {},
   "outputs": [
    {
     "data": {
      "text/plain": [
       "tensor(6.7500)"
      ]
     },
     "execution_count": 60,
     "metadata": {},
     "output_type": "execute_result"
    }
   ],
   "source": [
    "x.sum()"
   ]
  },
  {
   "cell_type": "code",
   "execution_count": 53,
   "id": "51026f6b",
   "metadata": {},
   "outputs": [
    {
     "data": {
      "text/plain": [
       "0.0"
      ]
     },
     "execution_count": 53,
     "metadata": {},
     "output_type": "execute_result"
    }
   ],
   "source": [
    "x.sum().item()"
   ]
  },
  {
   "cell_type": "code",
   "execution_count": 54,
   "id": "ffdfbc74",
   "metadata": {},
   "outputs": [
    {
     "data": {
      "text/plain": [
       "float"
      ]
     },
     "execution_count": 54,
     "metadata": {},
     "output_type": "execute_result"
    }
   ],
   "source": [
    "type(x.sum().item())"
   ]
  },
  {
   "cell_type": "code",
   "execution_count": 66,
   "id": "ef72fa42",
   "metadata": {},
   "outputs": [],
   "source": [
    "x = torch.tensor([[11, 12, 13], [21, 22, 23]], dtype=torch.uint8)"
   ]
  },
  {
   "cell_type": "code",
   "execution_count": 62,
   "id": "fa72637f",
   "metadata": {},
   "outputs": [
    {
     "data": {
      "text/plain": [
       "tensor([[11, 12, 13],\n",
       "        [21, 22, 23]])"
      ]
     },
     "execution_count": 62,
     "metadata": {},
     "output_type": "execute_result"
    }
   ],
   "source": [
    "x"
   ]
  },
  {
   "cell_type": "code",
   "execution_count": 63,
   "id": "2a3b7b28",
   "metadata": {},
   "outputs": [
    {
     "data": {
      "text/plain": [
       "tensor(23)"
      ]
     },
     "execution_count": 63,
     "metadata": {},
     "output_type": "execute_result"
    }
   ],
   "source": [
    "x[1, 2]"
   ]
  },
  {
   "cell_type": "code",
   "execution_count": 64,
   "id": "b323986a",
   "metadata": {},
   "outputs": [
    {
     "data": {
      "text/plain": [
       "tensor([13, 23])"
      ]
     },
     "execution_count": 64,
     "metadata": {},
     "output_type": "execute_result"
    }
   ],
   "source": [
    "x[:, 2]"
   ]
  },
  {
   "cell_type": "code",
   "execution_count": 67,
   "id": "ec3a69f8",
   "metadata": {},
   "outputs": [
    {
     "data": {
      "text/plain": [
       "torch.uint8"
      ]
     },
     "execution_count": 67,
     "metadata": {},
     "output_type": "execute_result"
    }
   ],
   "source": [
    "x.dtype"
   ]
  },
  {
   "cell_type": "code",
   "execution_count": 68,
   "id": "8e84af89",
   "metadata": {},
   "outputs": [
    {
     "data": {
      "text/plain": [
       "device(type='cpu')"
      ]
     },
     "execution_count": 68,
     "metadata": {},
     "output_type": "execute_result"
    }
   ],
   "source": [
    "x.device"
   ]
  },
  {
   "cell_type": "markdown",
   "id": "84170626",
   "metadata": {},
   "source": [
    "## Component-wise and vector/matrix operations"
   ]
  },
  {
   "cell_type": "code",
   "execution_count": 69,
   "id": "0e5e438e",
   "metadata": {},
   "outputs": [],
   "source": [
    "x = torch.tensor([ 10., 20., 30.])"
   ]
  },
  {
   "cell_type": "code",
   "execution_count": 70,
   "id": "804ac896",
   "metadata": {},
   "outputs": [],
   "source": [
    "y = torch.tensor([ 11., 21., 31.])"
   ]
  },
  {
   "cell_type": "code",
   "execution_count": 71,
   "id": "215a261e",
   "metadata": {},
   "outputs": [
    {
     "data": {
      "text/plain": [
       "tensor([21., 41., 61.])"
      ]
     },
     "execution_count": 71,
     "metadata": {},
     "output_type": "execute_result"
    }
   ],
   "source": [
    "x + y"
   ]
  },
  {
   "cell_type": "code",
   "execution_count": 72,
   "id": "b9764e7a",
   "metadata": {},
   "outputs": [
    {
     "data": {
      "text/plain": [
       "tensor([110., 420., 930.])"
      ]
     },
     "execution_count": 72,
     "metadata": {},
     "output_type": "execute_result"
    }
   ],
   "source": [
    "x * y"
   ]
  },
  {
   "cell_type": "code",
   "execution_count": 73,
   "id": "5f45ebe8",
   "metadata": {},
   "outputs": [
    {
     "data": {
      "text/plain": [
       "tensor([100., 400., 900.])"
      ]
     },
     "execution_count": 73,
     "metadata": {},
     "output_type": "execute_result"
    }
   ],
   "source": [
    "x ** 2"
   ]
  },
  {
   "cell_type": "code",
   "execution_count": 74,
   "id": "317cf53a",
   "metadata": {},
   "outputs": [],
   "source": [
    "m = torch.tensor([[ 0., 0., 3. ],\n",
    "                  [ 0., 2., 0. ],\n",
    "                  [ 1., 0., 0. ]])"
   ]
  },
  {
   "cell_type": "code",
   "execution_count": 75,
   "id": "3e1d97b4",
   "metadata": {},
   "outputs": [
    {
     "data": {
      "text/plain": [
       "tensor([90., 40., 10.])"
      ]
     },
     "execution_count": 75,
     "metadata": {},
     "output_type": "execute_result"
    }
   ],
   "source": [
    "m.mv(x)"
   ]
  },
  {
   "cell_type": "code",
   "execution_count": 76,
   "id": "4982b0cf",
   "metadata": {},
   "outputs": [
    {
     "data": {
      "text/plain": [
       "tensor([90., 40., 10.])"
      ]
     },
     "execution_count": 76,
     "metadata": {},
     "output_type": "execute_result"
    }
   ],
   "source": [
    "m @ x"
   ]
  },
  {
   "cell_type": "markdown",
   "id": "cb0e81a0",
   "metadata": {},
   "source": [
    "The @ operator corresponds to matrix/vector or matrix/matrix multiplication, while * is component-wise product and can be applied to tensors of arbitrary size, in particular of dimension greater than 2."
   ]
  },
  {
   "cell_type": "markdown",
   "id": "fbf35cd8",
   "metadata": {},
   "source": [
    "## Standard linear operations"
   ]
  },
  {
   "cell_type": "code",
   "execution_count": 77,
   "id": "131ac5e9",
   "metadata": {},
   "outputs": [],
   "source": [
    "y = torch.randn(3)"
   ]
  },
  {
   "cell_type": "code",
   "execution_count": 78,
   "id": "9a42f209",
   "metadata": {},
   "outputs": [
    {
     "data": {
      "text/plain": [
       "tensor([-0.3514, -0.7906, -0.0915])"
      ]
     },
     "execution_count": 78,
     "metadata": {},
     "output_type": "execute_result"
    }
   ],
   "source": [
    "y"
   ]
  },
  {
   "cell_type": "code",
   "execution_count": 79,
   "id": "e0e477ad",
   "metadata": {},
   "outputs": [],
   "source": [
    "m = torch.rand(3, 3)"
   ]
  },
  {
   "cell_type": "code",
   "execution_count": 80,
   "id": "6fa978d4",
   "metadata": {},
   "outputs": [
    {
     "data": {
      "text/plain": [
       "tensor([[0.0050, 0.3068, 0.1165],\n",
       "        [0.9103, 0.6440, 0.7071],\n",
       "        [0.6581, 0.4913, 0.8913]])"
      ]
     },
     "execution_count": 80,
     "metadata": {},
     "output_type": "execute_result"
    }
   ],
   "source": [
    "m"
   ]
  },
  {
   "cell_type": "code",
   "execution_count": 81,
   "id": "c138fce6",
   "metadata": {},
   "outputs": [],
   "source": [
    "q = torch.linalg.lstsq(m, y).solution"
   ]
  },
  {
   "cell_type": "code",
   "execution_count": 82,
   "id": "ba872774",
   "metadata": {},
   "outputs": [
    {
     "data": {
      "text/plain": [
       "tensor([-0.3514, -0.7906, -0.0915])"
      ]
     },
     "execution_count": 82,
     "metadata": {},
     "output_type": "execute_result"
    }
   ],
   "source": [
    "m @ q"
   ]
  },
  {
   "cell_type": "code",
   "execution_count": 83,
   "id": "6833124c",
   "metadata": {},
   "outputs": [
    {
     "data": {
      "text/plain": [
       "tensor([-0.7659, -1.6549,  1.3751])"
      ]
     },
     "execution_count": 83,
     "metadata": {},
     "output_type": "execute_result"
    }
   ],
   "source": [
    "q"
   ]
  },
  {
   "cell_type": "markdown",
   "id": "6e7c054e",
   "metadata": {},
   "source": [
    "## Transpose, view, indexing"
   ]
  },
  {
   "cell_type": "code",
   "execution_count": 84,
   "id": "63410ade",
   "metadata": {},
   "outputs": [],
   "source": [
    "output3d = torch.rand(6, 20, 20)"
   ]
  },
  {
   "cell_type": "code",
   "execution_count": 85,
   "id": "8d26e7d6",
   "metadata": {},
   "outputs": [],
   "source": [
    "input1d = output3d.reshape(6 * 20 * 20)"
   ]
  },
  {
   "cell_type": "code",
   "execution_count": 86,
   "id": "cc683b0a",
   "metadata": {},
   "outputs": [
    {
     "data": {
      "text/plain": [
       "torch.Size([2400])"
      ]
     },
     "execution_count": 86,
     "metadata": {},
     "output_type": "execute_result"
    }
   ],
   "source": [
    "torch.reshape(output3d, (6 * 20 * 20,)).shape"
   ]
  },
  {
   "cell_type": "code",
   "execution_count": 88,
   "id": "01544993",
   "metadata": {},
   "outputs": [
    {
     "data": {
      "text/plain": [
       "torch.Size([2400])"
      ]
     },
     "execution_count": 88,
     "metadata": {},
     "output_type": "execute_result"
    }
   ],
   "source": [
    "output3d.view(6 * 20 * 20).shape"
   ]
  },
  {
   "cell_type": "code",
   "execution_count": 89,
   "id": "78b0079e",
   "metadata": {},
   "outputs": [],
   "source": [
    "x = torch.tensor([ [ 1, 3, 0 ],\n",
    "                   [ 2, 4, 6 ] ])"
   ]
  },
  {
   "cell_type": "code",
   "execution_count": 90,
   "id": "ec0d1e98",
   "metadata": {},
   "outputs": [
    {
     "data": {
      "text/plain": [
       "tensor([[1, 2],\n",
       "        [3, 4],\n",
       "        [0, 6]])"
      ]
     },
     "execution_count": 90,
     "metadata": {},
     "output_type": "execute_result"
    }
   ],
   "source": [
    "x.t()"
   ]
  },
  {
   "cell_type": "code",
   "execution_count": 91,
   "id": "3ed702b5",
   "metadata": {},
   "outputs": [
    {
     "data": {
      "text/plain": [
       "tensor([1, 3, 0, 2, 4, 6])"
      ]
     },
     "execution_count": 91,
     "metadata": {},
     "output_type": "execute_result"
    }
   ],
   "source": [
    "x.view(-1)"
   ]
  },
  {
   "cell_type": "code",
   "execution_count": 92,
   "id": "3831e9c7",
   "metadata": {},
   "outputs": [
    {
     "data": {
      "text/plain": [
       "tensor([[1, 3],\n",
       "        [0, 2],\n",
       "        [4, 6]])"
      ]
     },
     "execution_count": 92,
     "metadata": {},
     "output_type": "execute_result"
    }
   ],
   "source": [
    "x.view(3, -1)"
   ]
  },
  {
   "cell_type": "code",
   "execution_count": 93,
   "id": "91379f7f",
   "metadata": {},
   "outputs": [
    {
     "data": {
      "text/plain": [
       "tensor([[3, 0],\n",
       "        [4, 6]])"
      ]
     },
     "execution_count": 93,
     "metadata": {},
     "output_type": "execute_result"
    }
   ],
   "source": [
    "x[:, 1:3]"
   ]
  },
  {
   "cell_type": "code",
   "execution_count": 94,
   "id": "37c33560",
   "metadata": {},
   "outputs": [
    {
     "data": {
      "text/plain": [
       "tensor([[[1, 3, 0],\n",
       "         [2, 4, 6]],\n",
       "\n",
       "        [[1, 3, 0],\n",
       "         [2, 4, 6]],\n",
       "\n",
       "        [[1, 3, 0],\n",
       "         [2, 4, 6]]])"
      ]
     },
     "execution_count": 94,
     "metadata": {},
     "output_type": "execute_result"
    }
   ],
   "source": [
    "x.view(1, 2, 3).expand(3, 2, 3)"
   ]
  },
  {
   "cell_type": "code",
   "execution_count": 95,
   "id": "419a7ef5",
   "metadata": {},
   "outputs": [
    {
     "data": {
      "text/plain": [
       "tensor([[[1, 3, 0],\n",
       "         [2, 4, 6]],\n",
       "\n",
       "        [[1, 3, 0],\n",
       "         [2, 4, 6]],\n",
       "\n",
       "        [[1, 3, 0],\n",
       "         [2, 4, 6]]])"
      ]
     },
     "execution_count": 95,
     "metadata": {},
     "output_type": "execute_result"
    }
   ],
   "source": [
    "x.unsqueeze(0).expand(3, 2, 3)"
   ]
  },
  {
   "cell_type": "code",
   "execution_count": 96,
   "id": "d9fe4e56",
   "metadata": {},
   "outputs": [],
   "source": [
    "x = torch.tensor([ [ [ 1, 2, 1 ],\n",
    "                     [ 2, 1, 2 ] ],\n",
    "                   [ [ 3, 0, 3 ],\n",
    "                     [ 0, 3, 0 ] ] ])"
   ]
  },
  {
   "cell_type": "code",
   "execution_count": 97,
   "id": "25ee9a2f",
   "metadata": {},
   "outputs": [
    {
     "data": {
      "text/plain": [
       "tensor([[[1, 2, 1],\n",
       "         [2, 1, 2]]])"
      ]
     },
     "execution_count": 97,
     "metadata": {},
     "output_type": "execute_result"
    }
   ],
   "source": [
    "x[0:1, :, :]"
   ]
  },
  {
   "cell_type": "code",
   "execution_count": 98,
   "id": "2e61a66f",
   "metadata": {},
   "outputs": [
    {
     "data": {
      "text/plain": [
       "tensor([[[1, 2],\n",
       "         [2, 1]],\n",
       "\n",
       "        [[3, 0],\n",
       "         [0, 3]]])"
      ]
     },
     "execution_count": 98,
     "metadata": {},
     "output_type": "execute_result"
    }
   ],
   "source": [
    "x[:, :, 0:2]"
   ]
  },
  {
   "cell_type": "code",
   "execution_count": 99,
   "id": "404fa262",
   "metadata": {},
   "outputs": [
    {
     "data": {
      "text/plain": [
       "tensor([[[1, 2, 1],\n",
       "         [3, 0, 3]],\n",
       "\n",
       "        [[2, 1, 2],\n",
       "         [0, 3, 0]]])"
      ]
     },
     "execution_count": 99,
     "metadata": {},
     "output_type": "execute_result"
    }
   ],
   "source": [
    "x.transpose(0, 1)"
   ]
  },
  {
   "cell_type": "code",
   "execution_count": 100,
   "id": "0092b79a",
   "metadata": {},
   "outputs": [
    {
     "data": {
      "text/plain": [
       "tensor([[[1, 3],\n",
       "         [2, 0]],\n",
       "\n",
       "        [[2, 0],\n",
       "         [1, 3]],\n",
       "\n",
       "        [[1, 3],\n",
       "         [2, 0]]])"
      ]
     },
     "execution_count": 100,
     "metadata": {},
     "output_type": "execute_result"
    }
   ],
   "source": [
    "x.transpose(0, 2)"
   ]
  },
  {
   "cell_type": "code",
   "execution_count": 101,
   "id": "aa0459a4",
   "metadata": {},
   "outputs": [
    {
     "data": {
      "text/plain": [
       "tensor([[[1, 2],\n",
       "         [2, 1],\n",
       "         [1, 2]],\n",
       "\n",
       "        [[3, 0],\n",
       "         [0, 3],\n",
       "         [3, 0]]])"
      ]
     },
     "execution_count": 101,
     "metadata": {},
     "output_type": "execute_result"
    }
   ],
   "source": [
    "x.transpose(1, 2)"
   ]
  },
  {
   "cell_type": "markdown",
   "id": "f97d69b7",
   "metadata": {},
   "source": [
    "For efficiency reasons, different tensors can share the same data and modifying one will modify the others. By default do not make the assumption that two tensors refer to different data in memory."
   ]
  },
  {
   "cell_type": "code",
   "execution_count": 102,
   "id": "0dc00855",
   "metadata": {},
   "outputs": [],
   "source": [
    "a = torch.full((2, 3), 1)"
   ]
  },
  {
   "cell_type": "code",
   "execution_count": 103,
   "id": "b70f534b",
   "metadata": {},
   "outputs": [
    {
     "data": {
      "text/plain": [
       "tensor([[1, 1, 1],\n",
       "        [1, 1, 1]])"
      ]
     },
     "execution_count": 103,
     "metadata": {},
     "output_type": "execute_result"
    }
   ],
   "source": [
    "a"
   ]
  },
  {
   "cell_type": "code",
   "execution_count": 104,
   "id": "9bd9a7c4",
   "metadata": {},
   "outputs": [],
   "source": [
    "b = a.view(-1)"
   ]
  },
  {
   "cell_type": "code",
   "execution_count": 105,
   "id": "16806aa5",
   "metadata": {},
   "outputs": [
    {
     "data": {
      "text/plain": [
       "tensor([1, 1, 1, 1, 1, 1])"
      ]
     },
     "execution_count": 105,
     "metadata": {},
     "output_type": "execute_result"
    }
   ],
   "source": [
    "b"
   ]
  },
  {
   "cell_type": "code",
   "execution_count": 106,
   "id": "05e5c5a7",
   "metadata": {},
   "outputs": [],
   "source": [
    "a[1, 1] = 2"
   ]
  },
  {
   "cell_type": "code",
   "execution_count": 107,
   "id": "32d4e036",
   "metadata": {},
   "outputs": [
    {
     "data": {
      "text/plain": [
       "tensor([[1, 1, 1],\n",
       "        [1, 2, 1]])"
      ]
     },
     "execution_count": 107,
     "metadata": {},
     "output_type": "execute_result"
    }
   ],
   "source": [
    "a"
   ]
  },
  {
   "cell_type": "code",
   "execution_count": 108,
   "id": "ef1f72f7",
   "metadata": {},
   "outputs": [
    {
     "data": {
      "text/plain": [
       "tensor([1, 1, 1, 1, 2, 1])"
      ]
     },
     "execution_count": 108,
     "metadata": {},
     "output_type": "execute_result"
    }
   ],
   "source": [
    "b"
   ]
  },
  {
   "cell_type": "code",
   "execution_count": 109,
   "id": "015bb72c",
   "metadata": {},
   "outputs": [],
   "source": [
    "b[0] = 9"
   ]
  },
  {
   "cell_type": "code",
   "execution_count": 111,
   "id": "9957c4d7",
   "metadata": {},
   "outputs": [
    {
     "data": {
      "text/plain": [
       "tensor([[9, 1, 1],\n",
       "        [1, 2, 1]])"
      ]
     },
     "execution_count": 111,
     "metadata": {},
     "output_type": "execute_result"
    }
   ],
   "source": [
    "a"
   ]
  },
  {
   "cell_type": "code",
   "execution_count": 112,
   "id": "eda03e2b",
   "metadata": {},
   "outputs": [
    {
     "data": {
      "text/plain": [
       "tensor([9, 1, 1, 1, 2, 1])"
      ]
     },
     "execution_count": 112,
     "metadata": {},
     "output_type": "execute_result"
    }
   ],
   "source": [
    "b"
   ]
  },
  {
   "cell_type": "markdown",
   "id": "7e57f28f",
   "metadata": {},
   "source": [
    "## Einstein summation: matrix product"
   ]
  },
  {
   "cell_type": "code",
   "execution_count": 113,
   "id": "390b45a4",
   "metadata": {},
   "outputs": [],
   "source": [
    "p = torch.rand(2, 5)"
   ]
  },
  {
   "cell_type": "code",
   "execution_count": 114,
   "id": "7ccca284",
   "metadata": {},
   "outputs": [],
   "source": [
    "q = torch.rand(5, 4)"
   ]
  },
  {
   "cell_type": "code",
   "execution_count": 115,
   "id": "8b42cdbf",
   "metadata": {},
   "outputs": [
    {
     "data": {
      "text/plain": [
       "tensor([[1.4122, 1.3369, 1.1461, 2.0365],\n",
       "        [1.1648, 1.1237, 0.9161, 1.5248]])"
      ]
     },
     "execution_count": 115,
     "metadata": {},
     "output_type": "execute_result"
    }
   ],
   "source": [
    "torch.einsum('ij,jk->ik', p, q)"
   ]
  },
  {
   "cell_type": "code",
   "execution_count": 116,
   "id": "4c0bce94",
   "metadata": {},
   "outputs": [
    {
     "data": {
      "text/plain": [
       "tensor([[1.4122, 1.3369, 1.1461, 2.0365],\n",
       "        [1.1648, 1.1237, 0.9161, 1.5248]])"
      ]
     },
     "execution_count": 116,
     "metadata": {},
     "output_type": "execute_result"
    }
   ],
   "source": [
    "p@q"
   ]
  },
  {
   "cell_type": "markdown",
   "id": "5e31dd3e",
   "metadata": {},
   "source": [
    "## Tensors internals"
   ]
  },
  {
   "cell_type": "code",
   "execution_count": 117,
   "id": "fbdb59b9",
   "metadata": {},
   "outputs": [],
   "source": [
    "x = torch.zeros(2, 4)"
   ]
  },
  {
   "cell_type": "code",
   "execution_count": 118,
   "id": "7c496432",
   "metadata": {},
   "outputs": [
    {
     "name": "stderr",
     "output_type": "stream",
     "text": [
      "/var/folders/8p/sj6ncwq12_z6dgkmp_9c7llc0000gn/T/ipykernel_94488/2674773268.py:1: UserWarning: TypedStorage is deprecated. It will be removed in the future and UntypedStorage will be the only storage class. This should only matter to you if you are using storages directly.  To access UntypedStorage directly, use tensor.untyped_storage() instead of tensor.storage()\n",
      "  x.storage()\n"
     ]
    },
    {
     "data": {
      "text/plain": [
       " 0.0\n",
       " 0.0\n",
       " 0.0\n",
       " 0.0\n",
       " 0.0\n",
       " 0.0\n",
       " 0.0\n",
       " 0.0\n",
       "[torch.storage.TypedStorage(dtype=torch.float32, device=cpu) of size 8]"
      ]
     },
     "execution_count": 118,
     "metadata": {},
     "output_type": "execute_result"
    }
   ],
   "source": [
    "x.storage()"
   ]
  },
  {
   "cell_type": "code",
   "execution_count": 119,
   "id": "94beabdf",
   "metadata": {},
   "outputs": [],
   "source": [
    "q = x.storage()"
   ]
  },
  {
   "cell_type": "code",
   "execution_count": 120,
   "id": "d65ad016",
   "metadata": {},
   "outputs": [],
   "source": [
    "q[4] = 1.0"
   ]
  },
  {
   "cell_type": "code",
   "execution_count": 121,
   "id": "2d64e660",
   "metadata": {},
   "outputs": [
    {
     "data": {
      "text/plain": [
       "tensor([[0., 0., 0., 0.],\n",
       "        [1., 0., 0., 0.]])"
      ]
     },
     "execution_count": 121,
     "metadata": {},
     "output_type": "execute_result"
    }
   ],
   "source": [
    "x"
   ]
  },
  {
   "cell_type": "code",
   "execution_count": 122,
   "id": "d8871c76",
   "metadata": {},
   "outputs": [],
   "source": [
    "q = torch.arange(0., 20.).storage()"
   ]
  },
  {
   "cell_type": "code",
   "execution_count": 123,
   "id": "ecfc9ada",
   "metadata": {},
   "outputs": [],
   "source": [
    "x = torch.empty(0).set_(q, storage_offset = 5, size = (3, 2), stride = (4, 1))"
   ]
  },
  {
   "cell_type": "code",
   "execution_count": 125,
   "id": "d433b9b4",
   "metadata": {},
   "outputs": [
    {
     "data": {
      "text/plain": [
       "tensor([[ 5.,  6.],\n",
       "        [ 9., 10.],\n",
       "        [13., 14.]])"
      ]
     },
     "execution_count": 125,
     "metadata": {},
     "output_type": "execute_result"
    }
   ],
   "source": [
    "x"
   ]
  },
  {
   "cell_type": "code",
   "execution_count": 126,
   "id": "40fa4121",
   "metadata": {},
   "outputs": [],
   "source": [
    "n = torch.linspace(1, 4, 4)"
   ]
  },
  {
   "cell_type": "code",
   "execution_count": 127,
   "id": "580d4b76",
   "metadata": {},
   "outputs": [
    {
     "data": {
      "text/plain": [
       "tensor([1., 2., 3., 4.])"
      ]
     },
     "execution_count": 127,
     "metadata": {},
     "output_type": "execute_result"
    }
   ],
   "source": [
    "n"
   ]
  },
  {
   "cell_type": "code",
   "execution_count": 128,
   "id": "b4ed3649",
   "metadata": {},
   "outputs": [
    {
     "data": {
      "text/plain": [
       "tensor([[2., 3., 4.],\n",
       "        [2., 3., 4.],\n",
       "        [2., 3., 4.]])"
      ]
     },
     "execution_count": 128,
     "metadata": {},
     "output_type": "execute_result"
    }
   ],
   "source": [
    "torch.tensor(0.).set_(n.storage(), 1, (3, 3), (0, 1))"
   ]
  },
  {
   "cell_type": "code",
   "execution_count": 129,
   "id": "91ce3e9c",
   "metadata": {},
   "outputs": [
    {
     "data": {
      "text/plain": [
       "tensor([[2., 2., 2., 2.],\n",
       "        [3., 3., 3., 3.]])"
      ]
     },
     "execution_count": 129,
     "metadata": {},
     "output_type": "execute_result"
    }
   ],
   "source": [
    "torch.tensor(0.).set_(n.storage(), 1, (2, 4), (1, 0))"
   ]
  },
  {
   "cell_type": "markdown",
   "id": "351ef302",
   "metadata": {},
   "source": [
    "## Torchvision datasets"
   ]
  },
  {
   "cell_type": "code",
   "execution_count": 130,
   "id": "3c3cc6dc",
   "metadata": {},
   "outputs": [],
   "source": [
    "import torchvision"
   ]
  },
  {
   "cell_type": "code",
   "execution_count": 131,
   "id": "c783fe53",
   "metadata": {},
   "outputs": [
    {
     "name": "stdout",
     "output_type": "stream",
     "text": [
      "Files already downloaded and verified\n"
     ]
    }
   ],
   "source": [
    "cifar = torchvision.datasets.CIFAR10('./cifar10/', train = True, download = True)"
   ]
  },
  {
   "cell_type": "code",
   "execution_count": 135,
   "id": "933dddfb",
   "metadata": {},
   "outputs": [
    {
     "data": {
      "text/plain": [
       "['airplane',\n",
       " 'automobile',\n",
       " 'bird',\n",
       " 'cat',\n",
       " 'deer',\n",
       " 'dog',\n",
       " 'frog',\n",
       " 'horse',\n",
       " 'ship',\n",
       " 'truck']"
      ]
     },
     "execution_count": 135,
     "metadata": {},
     "output_type": "execute_result"
    }
   ],
   "source": [
    "cifar.classes"
   ]
  },
  {
   "cell_type": "code",
   "execution_count": 137,
   "id": "5b6097f5",
   "metadata": {},
   "outputs": [
    {
     "data": {
      "text/plain": [
       "(32, 32, 3)"
      ]
     },
     "execution_count": 137,
     "metadata": {},
     "output_type": "execute_result"
    }
   ],
   "source": [
    "cifar.data[10].shape"
   ]
  },
  {
   "cell_type": "code",
   "execution_count": 138,
   "id": "35ef2eb3",
   "metadata": {},
   "outputs": [
    {
     "data": {
      "text/plain": [
       "array([74, 69, 50], dtype=uint8)"
      ]
     },
     "execution_count": 138,
     "metadata": {},
     "output_type": "execute_result"
    }
   ],
   "source": [
    "cifar.data[10, 15, 15]"
   ]
  },
  {
   "cell_type": "code",
   "execution_count": 148,
   "id": "301d96d7",
   "metadata": {},
   "outputs": [],
   "source": [
    "x = torch.from_numpy(cifar.data).permute(0, 3, 1, 2).float() / 255"
   ]
  },
  {
   "cell_type": "markdown",
   "id": "60af6d14",
   "metadata": {},
   "source": [
    "Putting `float() / 255` in the end of a line normalizes images."
   ]
  },
  {
   "cell_type": "code",
   "execution_count": 140,
   "id": "3568f533",
   "metadata": {},
   "outputs": [
    {
     "data": {
      "text/plain": [
       "(torch.float32, torch.Size([50000, 3, 32, 32]), 0.0, 1.0)"
      ]
     },
     "execution_count": 140,
     "metadata": {},
     "output_type": "execute_result"
    }
   ],
   "source": [
    "x.dtype, x.size(), x.min().item(), x.max().item()"
   ]
  },
  {
   "cell_type": "code",
   "execution_count": 141,
   "id": "9cd19d25",
   "metadata": {},
   "outputs": [
    {
     "data": {
      "text/plain": [
       "array([122,  82,  44], dtype=uint8)"
      ]
     },
     "execution_count": 141,
     "metadata": {},
     "output_type": "execute_result"
    }
   ],
   "source": [
    "cifar.data[0, 5, 9]"
   ]
  },
  {
   "cell_type": "markdown",
   "id": "af3d433f",
   "metadata": {},
   "source": [
    "Note that there are different storage conventions between some libraries used by PyTorch (pillow and NumPy) and PyTorch itself:\n",
    "* loading the images yields a tensor of shape 50000×32×32×3, but\n",
    "* PyTorch works with the channel dimension as the second one: 50000×3×32×32."
   ]
  },
  {
   "cell_type": "markdown",
   "id": "0f8e85f2",
   "metadata": {},
   "source": [
    "This change is made with `permute(0, 3, 1, 2)` which means that we want dimension 3 of the original tensor to lie at the second position of the new tensor."
   ]
  },
  {
   "cell_type": "markdown",
   "id": "bc1d439b",
   "metadata": {},
   "source": [
    "In the original tensor, accessing pixel `(5, 9)` of the first image `cifar.data[0, 5, 9]` returns\n",
    "`[122 82 44]`, because the last dimension is the number of channels."
   ]
  },
  {
   "cell_type": "markdown",
   "id": "bdaba965",
   "metadata": {},
   "source": [
    "Once the permutation is done, `x[n, 0, :, :]` allows to access the red channel of image `n`."
   ]
  },
  {
   "cell_type": "markdown",
   "id": "6c9789a2",
   "metadata": {},
   "source": [
    "Narrows to the first images, converts to float"
   ]
  },
  {
   "cell_type": "code",
   "execution_count": 142,
   "id": "2be18bdf",
   "metadata": {},
   "outputs": [],
   "source": [
    "x = x[:48]"
   ]
  },
  {
   "cell_type": "markdown",
   "id": "6f4a1c2b",
   "metadata": {},
   "source": [
    "Saves these samples as a single image"
   ]
  },
  {
   "cell_type": "code",
   "execution_count": 143,
   "id": "8798fad2",
   "metadata": {},
   "outputs": [],
   "source": [
    "torchvision.utils.save_image(x, 'cifar-4x12.png',\n",
    "                             nrow = 12, pad_value = 1.0)"
   ]
  },
  {
   "cell_type": "markdown",
   "id": "fdb2a3f1",
   "metadata": {},
   "source": [
    "Switches the row and column indexes"
   ]
  },
  {
   "cell_type": "code",
   "execution_count": 144,
   "id": "f0ef3205",
   "metadata": {},
   "outputs": [
    {
     "data": {
      "text/plain": [
       "tensor([[[[0.2314, 0.0627, 0.0980,  ..., 0.8157, 0.7059, 0.6941],\n",
       "          [0.1686, 0.0000, 0.0627,  ..., 0.7882, 0.6784, 0.6588],\n",
       "          [0.1961, 0.0706, 0.1922,  ..., 0.7765, 0.7294, 0.7020],\n",
       "          ...,\n",
       "          [0.6196, 0.4824, 0.4627,  ..., 0.6275, 0.7216, 0.8471],\n",
       "          [0.5961, 0.4667, 0.4706,  ..., 0.2196, 0.3804, 0.5922],\n",
       "          [0.5804, 0.4784, 0.4275,  ..., 0.2078, 0.3255, 0.4824]],\n",
       "\n",
       "         [[0.2431, 0.0784, 0.0941,  ..., 0.6667, 0.5451, 0.5647],\n",
       "          [0.1804, 0.0000, 0.0275,  ..., 0.6000, 0.4824, 0.5059],\n",
       "          [0.1882, 0.0314, 0.1059,  ..., 0.6314, 0.5647, 0.5569],\n",
       "          ...,\n",
       "          [0.5176, 0.3451, 0.3294,  ..., 0.5216, 0.5804, 0.7216],\n",
       "          [0.4902, 0.3255, 0.3294,  ..., 0.1216, 0.2431, 0.4627],\n",
       "          [0.4863, 0.3412, 0.2863,  ..., 0.1333, 0.2078, 0.3608]],\n",
       "\n",
       "         [[0.2471, 0.0784, 0.0824,  ..., 0.3765, 0.3765, 0.4549],\n",
       "          [0.1765, 0.0000, 0.0000,  ..., 0.1333, 0.1647, 0.3686],\n",
       "          [0.1686, 0.0000, 0.0314,  ..., 0.1020, 0.1176, 0.3412],\n",
       "          ...,\n",
       "          [0.4235, 0.2157, 0.1961,  ..., 0.2745, 0.3686, 0.5490],\n",
       "          [0.4000, 0.1961, 0.1961,  ..., 0.0275, 0.1333, 0.3294],\n",
       "          [0.4039, 0.2235, 0.1647,  ..., 0.0784, 0.1333, 0.2824]]],\n",
       "\n",
       "\n",
       "        [[[0.6039, 0.5490, 0.5490,  ..., 0.6863, 0.6471, 0.6392],\n",
       "          [0.4941, 0.5686, 0.5451,  ..., 0.6118, 0.6118, 0.6196],\n",
       "          [0.4118, 0.4902, 0.4510,  ..., 0.6039, 0.6235, 0.6392],\n",
       "          ...,\n",
       "          [0.3569, 0.3765, 0.3098,  ..., 0.1647, 0.4039, 0.5608],\n",
       "          [0.3412, 0.3020, 0.2667,  ..., 0.2392, 0.4824, 0.5608],\n",
       "          [0.3098, 0.2784, 0.2627,  ..., 0.3647, 0.5137, 0.5608]],\n",
       "\n",
       "         [[0.6941, 0.6275, 0.6078,  ..., 0.6549, 0.6039, 0.5804],\n",
       "          [0.5373, 0.6000, 0.5725,  ..., 0.6039, 0.5961, 0.5804],\n",
       "          [0.4078, 0.4902, 0.4510,  ..., 0.6275, 0.6314, 0.6118],\n",
       "          ...,\n",
       "          [0.3725, 0.3882, 0.3216,  ..., 0.1333, 0.3647, 0.5216],\n",
       "          [0.3529, 0.3137, 0.2745,  ..., 0.2078, 0.4471, 0.5255],\n",
       "          [0.3176, 0.2863, 0.2706,  ..., 0.3255, 0.4745, 0.5216]],\n",
       "\n",
       "         [[0.7333, 0.6627, 0.6431,  ..., 0.6510, 0.5020, 0.4706],\n",
       "          [0.5333, 0.6039, 0.5843,  ..., 0.6275, 0.5098, 0.4784],\n",
       "          [0.3725, 0.4627, 0.4392,  ..., 0.6667, 0.5569, 0.5216],\n",
       "          ...,\n",
       "          [0.2784, 0.3059, 0.2510,  ..., 0.1412, 0.3765, 0.5451],\n",
       "          [0.2784, 0.2431, 0.2157,  ..., 0.2235, 0.4706, 0.5569],\n",
       "          [0.2745, 0.2392, 0.2157,  ..., 0.3569, 0.5137, 0.5647]]],\n",
       "\n",
       "\n",
       "        [[[1.0000, 1.0000, 1.0000,  ..., 0.4431, 0.4353, 0.4157],\n",
       "          [0.9922, 1.0000, 0.9961,  ..., 0.4353, 0.4078, 0.3882],\n",
       "          [0.9922, 1.0000, 0.9961,  ..., 0.4118, 0.3882, 0.3725],\n",
       "          ...,\n",
       "          [0.9922, 1.0000, 0.9961,  ..., 0.2824, 0.2667, 0.3059],\n",
       "          [0.9922, 1.0000, 0.9961,  ..., 0.2824, 0.2745, 0.3098],\n",
       "          [0.9922, 1.0000, 0.9961,  ..., 0.2824, 0.3059, 0.3137]],\n",
       "\n",
       "         [[1.0000, 1.0000, 1.0000,  ..., 0.4706, 0.4627, 0.4431],\n",
       "          [0.9922, 1.0000, 0.9961,  ..., 0.4627, 0.4353, 0.4157],\n",
       "          [0.9922, 1.0000, 0.9961,  ..., 0.4392, 0.4157, 0.4000],\n",
       "          ...,\n",
       "          [0.9922, 1.0000, 0.9961,  ..., 0.3176, 0.2941, 0.3333],\n",
       "          [0.9922, 1.0000, 0.9961,  ..., 0.3137, 0.2980, 0.3333],\n",
       "          [0.9922, 1.0000, 0.9961,  ..., 0.3137, 0.3294, 0.3373]],\n",
       "\n",
       "         [[1.0000, 1.0000, 1.0000,  ..., 0.4392, 0.4314, 0.4118],\n",
       "          [0.9922, 1.0000, 0.9961,  ..., 0.4353, 0.4078, 0.3843],\n",
       "          [0.9922, 1.0000, 0.9961,  ..., 0.4157, 0.3843, 0.3686],\n",
       "          ...,\n",
       "          [0.9922, 1.0000, 0.9961,  ..., 0.3137, 0.2863, 0.3255],\n",
       "          [0.9922, 1.0000, 0.9961,  ..., 0.3098, 0.2941, 0.3255],\n",
       "          [0.9922, 1.0000, 0.9961,  ..., 0.3098, 0.3216, 0.3294]]],\n",
       "\n",
       "\n",
       "        ...,\n",
       "\n",
       "\n",
       "        [[[0.2118, 0.2314, 0.1608,  ..., 0.4118, 0.3373, 0.2745],\n",
       "          [0.2314, 0.2431, 0.1608,  ..., 0.3804, 0.3765, 0.3608],\n",
       "          [0.2196, 0.2157, 0.1412,  ..., 0.3765, 0.3804, 0.4431],\n",
       "          ...,\n",
       "          [0.5216, 0.7569, 0.7922,  ..., 0.3843, 0.3686, 0.3843],\n",
       "          [0.5137, 0.7843, 0.7686,  ..., 0.3922, 0.3843, 0.3765],\n",
       "          [0.5176, 0.7725, 0.7451,  ..., 0.3922, 0.3922, 0.3608]],\n",
       "\n",
       "         [[0.1216, 0.1490, 0.1020,  ..., 0.6314, 0.5843, 0.5333],\n",
       "          [0.1333, 0.1529, 0.0980,  ..., 0.6392, 0.6157, 0.5725],\n",
       "          [0.1451, 0.1412, 0.0824,  ..., 0.6667, 0.6431, 0.6627],\n",
       "          ...,\n",
       "          [0.3608, 0.5294, 0.5647,  ..., 0.5686, 0.4980, 0.4745],\n",
       "          [0.3490, 0.5647, 0.5529,  ..., 0.5412, 0.4941, 0.4588],\n",
       "          [0.3686, 0.5569, 0.5333,  ..., 0.5098, 0.4863, 0.4392]],\n",
       "\n",
       "         [[0.0706, 0.1020, 0.0706,  ..., 0.6157, 0.5608, 0.5020],\n",
       "          [0.0745, 0.1020, 0.0627,  ..., 0.6353, 0.6118, 0.5686],\n",
       "          [0.0863, 0.0980, 0.0510,  ..., 0.6431, 0.6275, 0.6588],\n",
       "          ...,\n",
       "          [0.2078, 0.3020, 0.3294,  ..., 0.5647, 0.4784, 0.4353],\n",
       "          [0.1922, 0.3373, 0.3176,  ..., 0.5294, 0.4706, 0.4157],\n",
       "          [0.2078, 0.3373, 0.3098,  ..., 0.4824, 0.4471, 0.3961]]],\n",
       "\n",
       "\n",
       "        [[[0.3686, 0.3333, 0.3216,  ..., 0.3059, 0.5216, 0.5490],\n",
       "          [0.2824, 0.2627, 0.2118,  ..., 0.2118, 0.4588, 0.5373],\n",
       "          [0.2353, 0.2039, 0.1608,  ..., 0.1451, 0.3843, 0.5412],\n",
       "          ...,\n",
       "          [0.2824, 0.2627, 0.2745,  ..., 0.2000, 0.2431, 0.3333],\n",
       "          [0.2784, 0.2824, 0.2784,  ..., 0.1725, 0.2078, 0.3098],\n",
       "          [0.3020, 0.3020, 0.3059,  ..., 0.2039, 0.2353, 0.2706]],\n",
       "\n",
       "         [[0.3569, 0.3255, 0.3216,  ..., 0.3098, 0.4980, 0.5059],\n",
       "          [0.2784, 0.2588, 0.2078,  ..., 0.2118, 0.4353, 0.4941],\n",
       "          [0.2667, 0.2235, 0.1725,  ..., 0.1451, 0.3608, 0.4941],\n",
       "          ...,\n",
       "          [0.3059, 0.2863, 0.2980,  ..., 0.1922, 0.2275, 0.2667],\n",
       "          [0.2941, 0.3059, 0.3020,  ..., 0.1843, 0.2196, 0.2784],\n",
       "          [0.3216, 0.3333, 0.3333,  ..., 0.1961, 0.2314, 0.2471]],\n",
       "\n",
       "         [[0.2431, 0.2157, 0.2078,  ..., 0.3373, 0.5059, 0.4941],\n",
       "          [0.1647, 0.1490, 0.0941,  ..., 0.2471, 0.4510, 0.4902],\n",
       "          [0.1373, 0.1137, 0.0745,  ..., 0.1804, 0.3843, 0.5059],\n",
       "          ...,\n",
       "          [0.1686, 0.1608, 0.2078,  ..., 0.1098, 0.1373, 0.1804],\n",
       "          [0.1529, 0.1451, 0.1451,  ..., 0.0784, 0.1098, 0.1804],\n",
       "          [0.1608, 0.1529, 0.1529,  ..., 0.1098, 0.1412, 0.1647]]],\n",
       "\n",
       "\n",
       "        [[[0.3020, 0.2784, 0.2157,  ..., 0.2471, 0.3490, 0.4039],\n",
       "          [0.2980, 0.2627, 0.2039,  ..., 0.2431, 0.3569, 0.4196],\n",
       "          [0.3059, 0.2706, 0.2275,  ..., 0.2627, 0.3490, 0.3608],\n",
       "          ...,\n",
       "          [0.2667, 0.2235, 0.2431,  ..., 0.2471, 0.2549, 0.2706],\n",
       "          [0.2275, 0.1725, 0.2078,  ..., 0.2275, 0.2667, 0.3020],\n",
       "          [0.1882, 0.1412, 0.1882,  ..., 0.2157, 0.2588, 0.3020]],\n",
       "\n",
       "         [[0.4431, 0.4196, 0.3569,  ..., 0.3804, 0.4627, 0.5059],\n",
       "          [0.4392, 0.4000, 0.3451,  ..., 0.3608, 0.4549, 0.5137],\n",
       "          [0.4471, 0.4118, 0.3686,  ..., 0.3804, 0.4471, 0.4667],\n",
       "          ...,\n",
       "          [0.4078, 0.3647, 0.3843,  ..., 0.3804, 0.3882, 0.4078],\n",
       "          [0.3686, 0.3137, 0.3490,  ..., 0.3608, 0.4000, 0.4353],\n",
       "          [0.3294, 0.2824, 0.3294,  ..., 0.3490, 0.3961, 0.4392]],\n",
       "\n",
       "         [[0.5373, 0.5137, 0.4510,  ..., 0.4667, 0.5333, 0.5647],\n",
       "          [0.5333, 0.4941, 0.4392,  ..., 0.4510, 0.5294, 0.5765],\n",
       "          [0.5451, 0.5098, 0.4667,  ..., 0.4745, 0.5333, 0.5412],\n",
       "          ...,\n",
       "          [0.5020, 0.4549, 0.4784,  ..., 0.4824, 0.4784, 0.4980],\n",
       "          [0.4627, 0.4078, 0.4431,  ..., 0.4627, 0.4902, 0.5255],\n",
       "          [0.4235, 0.3765, 0.4235,  ..., 0.4510, 0.4863, 0.5294]]]])"
      ]
     },
     "execution_count": 144,
     "metadata": {},
     "output_type": "execute_result"
    }
   ],
   "source": [
    "x.transpose_(2, 3)"
   ]
  },
  {
   "cell_type": "code",
   "execution_count": 145,
   "id": "8c30fbf5",
   "metadata": {},
   "outputs": [],
   "source": [
    "torchvision.utils.save_image(x, 'cifar-4x12-rotated.png',\n",
    "                                        nrow = 12, pad_value = 1.0)"
   ]
  },
  {
   "cell_type": "markdown",
   "id": "6ac8a630",
   "metadata": {},
   "source": [
    "Since the data follows the standard PyTorch “channel first” convention, transposing dimensions 2 and 3 (that is the 3rd and the fourth) exchanges the height and width of the images."
   ]
  },
  {
   "cell_type": "markdown",
   "id": "9139971b",
   "metadata": {},
   "source": [
    "Remember that methods ending with an underscore operate in-place."
   ]
  },
  {
   "cell_type": "markdown",
   "id": "6e5064e0",
   "metadata": {},
   "source": [
    "Kills the green and blue channels"
   ]
  },
  {
   "cell_type": "code",
   "execution_count": 146,
   "id": "872f7708",
   "metadata": {},
   "outputs": [
    {
     "data": {
      "text/plain": [
       "tensor([[[[0., 0., 0.,  ..., 0., 0., 0.],\n",
       "          [0., 0., 0.,  ..., 0., 0., 0.],\n",
       "          [0., 0., 0.,  ..., 0., 0., 0.],\n",
       "          ...,\n",
       "          [0., 0., 0.,  ..., 0., 0., 0.],\n",
       "          [0., 0., 0.,  ..., 0., 0., 0.],\n",
       "          [0., 0., 0.,  ..., 0., 0., 0.]],\n",
       "\n",
       "         [[0., 0., 0.,  ..., 0., 0., 0.],\n",
       "          [0., 0., 0.,  ..., 0., 0., 0.],\n",
       "          [0., 0., 0.,  ..., 0., 0., 0.],\n",
       "          ...,\n",
       "          [0., 0., 0.,  ..., 0., 0., 0.],\n",
       "          [0., 0., 0.,  ..., 0., 0., 0.],\n",
       "          [0., 0., 0.,  ..., 0., 0., 0.]]],\n",
       "\n",
       "\n",
       "        [[[0., 0., 0.,  ..., 0., 0., 0.],\n",
       "          [0., 0., 0.,  ..., 0., 0., 0.],\n",
       "          [0., 0., 0.,  ..., 0., 0., 0.],\n",
       "          ...,\n",
       "          [0., 0., 0.,  ..., 0., 0., 0.],\n",
       "          [0., 0., 0.,  ..., 0., 0., 0.],\n",
       "          [0., 0., 0.,  ..., 0., 0., 0.]],\n",
       "\n",
       "         [[0., 0., 0.,  ..., 0., 0., 0.],\n",
       "          [0., 0., 0.,  ..., 0., 0., 0.],\n",
       "          [0., 0., 0.,  ..., 0., 0., 0.],\n",
       "          ...,\n",
       "          [0., 0., 0.,  ..., 0., 0., 0.],\n",
       "          [0., 0., 0.,  ..., 0., 0., 0.],\n",
       "          [0., 0., 0.,  ..., 0., 0., 0.]]],\n",
       "\n",
       "\n",
       "        [[[0., 0., 0.,  ..., 0., 0., 0.],\n",
       "          [0., 0., 0.,  ..., 0., 0., 0.],\n",
       "          [0., 0., 0.,  ..., 0., 0., 0.],\n",
       "          ...,\n",
       "          [0., 0., 0.,  ..., 0., 0., 0.],\n",
       "          [0., 0., 0.,  ..., 0., 0., 0.],\n",
       "          [0., 0., 0.,  ..., 0., 0., 0.]],\n",
       "\n",
       "         [[0., 0., 0.,  ..., 0., 0., 0.],\n",
       "          [0., 0., 0.,  ..., 0., 0., 0.],\n",
       "          [0., 0., 0.,  ..., 0., 0., 0.],\n",
       "          ...,\n",
       "          [0., 0., 0.,  ..., 0., 0., 0.],\n",
       "          [0., 0., 0.,  ..., 0., 0., 0.],\n",
       "          [0., 0., 0.,  ..., 0., 0., 0.]]],\n",
       "\n",
       "\n",
       "        ...,\n",
       "\n",
       "\n",
       "        [[[0., 0., 0.,  ..., 0., 0., 0.],\n",
       "          [0., 0., 0.,  ..., 0., 0., 0.],\n",
       "          [0., 0., 0.,  ..., 0., 0., 0.],\n",
       "          ...,\n",
       "          [0., 0., 0.,  ..., 0., 0., 0.],\n",
       "          [0., 0., 0.,  ..., 0., 0., 0.],\n",
       "          [0., 0., 0.,  ..., 0., 0., 0.]],\n",
       "\n",
       "         [[0., 0., 0.,  ..., 0., 0., 0.],\n",
       "          [0., 0., 0.,  ..., 0., 0., 0.],\n",
       "          [0., 0., 0.,  ..., 0., 0., 0.],\n",
       "          ...,\n",
       "          [0., 0., 0.,  ..., 0., 0., 0.],\n",
       "          [0., 0., 0.,  ..., 0., 0., 0.],\n",
       "          [0., 0., 0.,  ..., 0., 0., 0.]]],\n",
       "\n",
       "\n",
       "        [[[0., 0., 0.,  ..., 0., 0., 0.],\n",
       "          [0., 0., 0.,  ..., 0., 0., 0.],\n",
       "          [0., 0., 0.,  ..., 0., 0., 0.],\n",
       "          ...,\n",
       "          [0., 0., 0.,  ..., 0., 0., 0.],\n",
       "          [0., 0., 0.,  ..., 0., 0., 0.],\n",
       "          [0., 0., 0.,  ..., 0., 0., 0.]],\n",
       "\n",
       "         [[0., 0., 0.,  ..., 0., 0., 0.],\n",
       "          [0., 0., 0.,  ..., 0., 0., 0.],\n",
       "          [0., 0., 0.,  ..., 0., 0., 0.],\n",
       "          ...,\n",
       "          [0., 0., 0.,  ..., 0., 0., 0.],\n",
       "          [0., 0., 0.,  ..., 0., 0., 0.],\n",
       "          [0., 0., 0.,  ..., 0., 0., 0.]]],\n",
       "\n",
       "\n",
       "        [[[0., 0., 0.,  ..., 0., 0., 0.],\n",
       "          [0., 0., 0.,  ..., 0., 0., 0.],\n",
       "          [0., 0., 0.,  ..., 0., 0., 0.],\n",
       "          ...,\n",
       "          [0., 0., 0.,  ..., 0., 0., 0.],\n",
       "          [0., 0., 0.,  ..., 0., 0., 0.],\n",
       "          [0., 0., 0.,  ..., 0., 0., 0.]],\n",
       "\n",
       "         [[0., 0., 0.,  ..., 0., 0., 0.],\n",
       "          [0., 0., 0.,  ..., 0., 0., 0.],\n",
       "          [0., 0., 0.,  ..., 0., 0., 0.],\n",
       "          ...,\n",
       "          [0., 0., 0.,  ..., 0., 0., 0.],\n",
       "          [0., 0., 0.,  ..., 0., 0., 0.],\n",
       "          [0., 0., 0.,  ..., 0., 0., 0.]]]])"
      ]
     },
     "execution_count": 146,
     "metadata": {},
     "output_type": "execute_result"
    }
   ],
   "source": [
    "x[:, 1:3].fill_(0)"
   ]
  },
  {
   "cell_type": "code",
   "execution_count": 147,
   "id": "19c29c80",
   "metadata": {},
   "outputs": [],
   "source": [
    "torchvision.utils.save_image(x, 'cifar-4x12-rotated-and-red.png',\n",
    "                                        nrow = 12, pad_value = 1.0)"
   ]
  },
  {
   "cell_type": "markdown",
   "id": "2f0c4b9b",
   "metadata": {},
   "source": [
    "Here, we set all the values of the green and blue channels to zero (channels 1 and 2 respectively)."
   ]
  },
  {
   "cell_type": "code",
   "execution_count": 149,
   "id": "8665c798",
   "metadata": {},
   "outputs": [],
   "source": [
    "x = torch.from_numpy(cifar.data).permute(0, 3, 1, 2).float() / 255"
   ]
  },
  {
   "cell_type": "code",
   "execution_count": 150,
   "id": "dd8c7bd8",
   "metadata": {},
   "outputs": [],
   "source": [
    "x = x[:48]"
   ]
  },
  {
   "cell_type": "code",
   "execution_count": 151,
   "id": "f98b0a1c",
   "metadata": {},
   "outputs": [
    {
     "data": {
      "text/plain": [
       "tensor([[[[0., 0., 0.,  ..., 0., 0., 0.],\n",
       "          [0., 0., 0.,  ..., 0., 0., 0.],\n",
       "          [0., 0., 0.,  ..., 0., 0., 0.],\n",
       "          ...,\n",
       "          [0., 0., 0.,  ..., 0., 0., 0.],\n",
       "          [0., 0., 0.,  ..., 0., 0., 0.],\n",
       "          [0., 0., 0.,  ..., 0., 0., 0.]],\n",
       "\n",
       "         [[0., 0., 0.,  ..., 0., 0., 0.],\n",
       "          [0., 0., 0.,  ..., 0., 0., 0.],\n",
       "          [0., 0., 0.,  ..., 0., 0., 0.],\n",
       "          ...,\n",
       "          [0., 0., 0.,  ..., 0., 0., 0.],\n",
       "          [0., 0., 0.,  ..., 0., 0., 0.],\n",
       "          [0., 0., 0.,  ..., 0., 0., 0.]]],\n",
       "\n",
       "\n",
       "        [[[0., 0., 0.,  ..., 0., 0., 0.],\n",
       "          [0., 0., 0.,  ..., 0., 0., 0.],\n",
       "          [0., 0., 0.,  ..., 0., 0., 0.],\n",
       "          ...,\n",
       "          [0., 0., 0.,  ..., 0., 0., 0.],\n",
       "          [0., 0., 0.,  ..., 0., 0., 0.],\n",
       "          [0., 0., 0.,  ..., 0., 0., 0.]],\n",
       "\n",
       "         [[0., 0., 0.,  ..., 0., 0., 0.],\n",
       "          [0., 0., 0.,  ..., 0., 0., 0.],\n",
       "          [0., 0., 0.,  ..., 0., 0., 0.],\n",
       "          ...,\n",
       "          [0., 0., 0.,  ..., 0., 0., 0.],\n",
       "          [0., 0., 0.,  ..., 0., 0., 0.],\n",
       "          [0., 0., 0.,  ..., 0., 0., 0.]]],\n",
       "\n",
       "\n",
       "        [[[0., 0., 0.,  ..., 0., 0., 0.],\n",
       "          [0., 0., 0.,  ..., 0., 0., 0.],\n",
       "          [0., 0., 0.,  ..., 0., 0., 0.],\n",
       "          ...,\n",
       "          [0., 0., 0.,  ..., 0., 0., 0.],\n",
       "          [0., 0., 0.,  ..., 0., 0., 0.],\n",
       "          [0., 0., 0.,  ..., 0., 0., 0.]],\n",
       "\n",
       "         [[0., 0., 0.,  ..., 0., 0., 0.],\n",
       "          [0., 0., 0.,  ..., 0., 0., 0.],\n",
       "          [0., 0., 0.,  ..., 0., 0., 0.],\n",
       "          ...,\n",
       "          [0., 0., 0.,  ..., 0., 0., 0.],\n",
       "          [0., 0., 0.,  ..., 0., 0., 0.],\n",
       "          [0., 0., 0.,  ..., 0., 0., 0.]]],\n",
       "\n",
       "\n",
       "        ...,\n",
       "\n",
       "\n",
       "        [[[0., 0., 0.,  ..., 0., 0., 0.],\n",
       "          [0., 0., 0.,  ..., 0., 0., 0.],\n",
       "          [0., 0., 0.,  ..., 0., 0., 0.],\n",
       "          ...,\n",
       "          [0., 0., 0.,  ..., 0., 0., 0.],\n",
       "          [0., 0., 0.,  ..., 0., 0., 0.],\n",
       "          [0., 0., 0.,  ..., 0., 0., 0.]],\n",
       "\n",
       "         [[0., 0., 0.,  ..., 0., 0., 0.],\n",
       "          [0., 0., 0.,  ..., 0., 0., 0.],\n",
       "          [0., 0., 0.,  ..., 0., 0., 0.],\n",
       "          ...,\n",
       "          [0., 0., 0.,  ..., 0., 0., 0.],\n",
       "          [0., 0., 0.,  ..., 0., 0., 0.],\n",
       "          [0., 0., 0.,  ..., 0., 0., 0.]]],\n",
       "\n",
       "\n",
       "        [[[0., 0., 0.,  ..., 0., 0., 0.],\n",
       "          [0., 0., 0.,  ..., 0., 0., 0.],\n",
       "          [0., 0., 0.,  ..., 0., 0., 0.],\n",
       "          ...,\n",
       "          [0., 0., 0.,  ..., 0., 0., 0.],\n",
       "          [0., 0., 0.,  ..., 0., 0., 0.],\n",
       "          [0., 0., 0.,  ..., 0., 0., 0.]],\n",
       "\n",
       "         [[0., 0., 0.,  ..., 0., 0., 0.],\n",
       "          [0., 0., 0.,  ..., 0., 0., 0.],\n",
       "          [0., 0., 0.,  ..., 0., 0., 0.],\n",
       "          ...,\n",
       "          [0., 0., 0.,  ..., 0., 0., 0.],\n",
       "          [0., 0., 0.,  ..., 0., 0., 0.],\n",
       "          [0., 0., 0.,  ..., 0., 0., 0.]]],\n",
       "\n",
       "\n",
       "        [[[0., 0., 0.,  ..., 0., 0., 0.],\n",
       "          [0., 0., 0.,  ..., 0., 0., 0.],\n",
       "          [0., 0., 0.,  ..., 0., 0., 0.],\n",
       "          ...,\n",
       "          [0., 0., 0.,  ..., 0., 0., 0.],\n",
       "          [0., 0., 0.,  ..., 0., 0., 0.],\n",
       "          [0., 0., 0.,  ..., 0., 0., 0.]],\n",
       "\n",
       "         [[0., 0., 0.,  ..., 0., 0., 0.],\n",
       "          [0., 0., 0.,  ..., 0., 0., 0.],\n",
       "          [0., 0., 0.,  ..., 0., 0., 0.],\n",
       "          ...,\n",
       "          [0., 0., 0.,  ..., 0., 0., 0.],\n",
       "          [0., 0., 0.,  ..., 0., 0., 0.],\n",
       "          [0., 0., 0.,  ..., 0., 0., 0.]]]])"
      ]
     },
     "execution_count": 151,
     "metadata": {},
     "output_type": "execute_result"
    }
   ],
   "source": [
    "x[:, 1:3, 0:20, 0:20].fill_(0)"
   ]
  },
  {
   "cell_type": "code",
   "execution_count": 152,
   "id": "bd562b8f",
   "metadata": {},
   "outputs": [],
   "source": [
    "torchvision.utils.save_image(x, 'cifar-4x12-partially-red.png', nrow = 12, pad_value = 1.0)"
   ]
  },
  {
   "cell_type": "markdown",
   "id": "5b184197",
   "metadata": {},
   "source": [
    "## Useful links\n",
    "\n",
    "1. [PyTorch deeper tutorial on tensors](https://pytorch.org/tutorials/beginner/introyt/tensors_deeper_tutorial.html)\n",
    "2. kdnuggets: [PyTorch tensors basics](https://www.kdnuggets.com/2018/05/pytorch-tensor-basics.html)\n",
    "3. Medium: [Tensors basics](https://medium.com/codex/tensor-basics-in-pytorch-252a34288f2)"
   ]
  }
 ],
 "metadata": {
  "kernelspec": {
   "display_name": "Python 3 (ipykernel)",
   "language": "python",
   "name": "python3"
  },
  "language_info": {
   "codemirror_mode": {
    "name": "ipython",
    "version": 3
   },
   "file_extension": ".py",
   "mimetype": "text/x-python",
   "name": "python",
   "nbconvert_exporter": "python",
   "pygments_lexer": "ipython3",
   "version": "3.10.6"
  }
 },
 "nbformat": 4,
 "nbformat_minor": 5
}
